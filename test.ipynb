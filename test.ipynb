{
 "metadata": {
  "language_info": {
   "codemirror_mode": {
    "name": "ipython",
    "version": 3
   },
   "file_extension": ".py",
   "mimetype": "text/x-python",
   "name": "python",
   "nbconvert_exporter": "python",
   "pygments_lexer": "ipython3",
   "version": "3.6.12-final"
  },
  "orig_nbformat": 2,
  "kernelspec": {
   "name": "Python 3.6.12 64-bit ('gluon': conda)",
   "display_name": "Python 3.6.12 64-bit ('gluon': conda)",
   "metadata": {
    "interpreter": {
     "hash": "2ca833319821dda9380d087aecfcff6cd44084a3a76167c44275d7d43409e37e"
    }
   }
  }
 },
 "nbformat": 4,
 "nbformat_minor": 2,
 "cells": [
  {
   "source": [
    "这是用来debug的notebook，目前已经能够在训练集上进行测试。\n",
    "\n",
    "代码目前和train.py中代码保持一致，在修改train.py前先在此处测试"
   ],
   "cell_type": "markdown",
   "metadata": {}
  },
  {
   "cell_type": "code",
   "execution_count": 1,
   "metadata": {},
   "outputs": [],
   "source": [
    "import torch\n",
    "import argparse\n",
    "import pickle\n",
    "from utils.dict import Dictionary\n",
    "from utils.dataloader import myDataloader\n",
    "from model.model import ATT_model\n",
    "from torch.optim import Adam"
   ]
  },
  {
   "cell_type": "code",
   "execution_count": 2,
   "metadata": {},
   "outputs": [],
   "source": [
    "def loss_func(true_answers, pred_answers, probs):\n",
    "    '''Calculate the loss with formulate loss = -sum(log(p(x))), x in answers\n",
    "    \n",
    "    Args:\n",
    "        true_answers: the answers of a batch\n",
    "        pred_answers: (tensor(batch_size)) predicted answers of a batch\n",
    "        probs: (tensor(batch_size)) probability of true answer in predict vector s\n",
    "    Returns:\n",
    "        loss: -sum(log(probs(x)))\n",
    "        correct_num: numbers of (true_answer==pred_answer)\n",
    "    '''\n",
    "    loss = -1 * torch.sum(torch.log(probs))\n",
    "    compare = true_answers.squeeze() == pred_answers\n",
    "    correct_num = 0\n",
    "    for i in compare:\n",
    "        if i:\n",
    "            correct_num += 1\n",
    "    return loss, correct_num"
   ]
  },
  {
   "cell_type": "code",
   "execution_count": 3,
   "metadata": {},
   "outputs": [],
   "source": [
    "class myParameters:\n",
    "    traindata = './temp/train_vec.pickle'\n",
    "    validdata = './temp/valid_vec.pickle'\n",
    "    dict = './temp/dictionary.pickle'\n",
    "    batch_size = 32\n",
    "    embedding_size = 384\n",
    "    gru_size = 256\n",
    "    epoch = 1\n",
    "    lr = 0.001\n",
    "    l2 = 0.0001\n",
    "    dropout = 0.1"
   ]
  },
  {
   "cell_type": "code",
   "execution_count": 4,
   "metadata": {},
   "outputs": [],
   "source": [
    "params = myParameters()"
   ]
  },
  {
   "cell_type": "code",
   "execution_count": 5,
   "metadata": {},
   "outputs": [],
   "source": [
    "# 加载字典\n",
    "with open(params.dict, 'rb') as f:\n",
    "    dictionary = pickle.load(f)\n",
    "\n",
    "# 加载数据\n",
    "with open(params.traindata, 'rb') as tr, open(params.validdata, 'rb') as v:\n",
    "    train_vec = pickle.load(tr)\n",
    "    valid_vec = pickle.load(v)\n",
    "\n",
    "batched_train_data = myDataloader(dictionary, train_vec, params.batch_size)\n",
    "batched_valid_data = myDataloader(dictionary, valid_vec, params.batch_size)"
   ]
  },
  {
   "cell_type": "code",
   "execution_count": 6,
   "metadata": {},
   "outputs": [],
   "source": [
    "# 模型实例化\n",
    "model = ATT_model(vocab_size=dictionary.len, embed_dim=params.embedding_size, hidden_dim=params.gru_size, dropout_rate=params.dropout, PAD=0)\n",
    "# 优化器实例化\n",
    "optimizer = Adam(model.parameters(),\n",
    "                     lr=params.lr,\n",
    "                     weight_decay=params.dropout)"
   ]
  },
  {
   "cell_type": "code",
   "execution_count": 7,
   "metadata": {},
   "outputs": [],
   "source": [
    "def trainModel(model, train_data, valid_data, optimizer):\n",
    "    def trainEpoch(epoch):\n",
    "        train_data.shuffle()\n",
    "        batch_num = train_data.batch_num\n",
    "\n",
    "        total_correct = 0\n",
    "        total_loss = 0\n",
    "        total = 0\n",
    "        for i in range(batch_num):\n",
    "            (docs, doc_lengths), (querys, query_lengths), answers = train_data[i]\n",
    "            optimizer.zero_grad()\n",
    "\n",
    "            probs, pred_answers = model(docs, doc_lengths, querys,\n",
    "                                        query_lengths, answers)\n",
    "\n",
    "            loss, pred_correct = loss_func(answers, pred_answers, probs)\n",
    "\n",
    "            loss.backward()\n",
    "\n",
    "            # set gradient clipping threshold to 5\n",
    "            for parameter in model.parameters():\n",
    "                parameter.grad.data.clamp_(-5.0, 5.0)\n",
    "\n",
    "            # update parameters\n",
    "            optimizer.step()\n",
    "\n",
    "            total_loss += loss\n",
    "            total_correct += pred_correct\n",
    "            total += answers.shape[0]\n",
    "\n",
    "            print(\n",
    "                'Epoch %d, %d th batch, avg loss: %.2f, avg correct_num: %.2f'\n",
    "                % (epoch, i, loss / answers.shape[0], pred_correct / answers.shape[0]))\n",
    "\n",
    "            del loss, pred_answers, probs\n",
    "\n",
    "        return total_loss / total, total_correct / total\n",
    "\n",
    "\n",
    "    for epoch in range(params.epoch):\n",
    "        train_loss, train_acc = trainEpoch(epoch)\n",
    "        print('Epoch %d:\\t average loss: %.2f\\t train accuracy: %g' %\n",
    "              (epoch, train_loss, train_acc * 100))"
   ]
  },
  {
   "cell_type": "code",
   "execution_count": 8,
   "metadata": {},
   "outputs": [
    {
     "output_type": "stream",
     "name": "stdout",
     "text": [
      "Epoch 0, 0 th batch, avg loss: 4.87, avg correct_num: 0.00\n",
      "Epoch 0, 1 th batch, avg loss: 4.42, avg correct_num: 0.03\n",
      "Epoch 0, 2 th batch, avg loss: 4.99, avg correct_num: 0.16\n",
      "Epoch 0, 3 th batch, avg loss: 4.87, avg correct_num: 0.28\n",
      "Epoch 0, 4 th batch, avg loss: 5.01, avg correct_num: 0.09\n",
      "Epoch 0, 5 th batch, avg loss: 4.83, avg correct_num: 0.19\n",
      "Epoch 0, 6 th batch, avg loss: 5.01, avg correct_num: 0.12\n",
      "Epoch 0, 7 th batch, avg loss: 4.69, avg correct_num: 0.22\n",
      "Epoch 0, 8 th batch, avg loss: 4.98, avg correct_num: 0.19\n",
      "Epoch 0, 9 th batch, avg loss: 4.66, avg correct_num: 0.28\n",
      "Epoch 0, 10 th batch, avg loss: 5.09, avg correct_num: 0.22\n",
      "Epoch 0, 11 th batch, avg loss: 4.65, avg correct_num: 0.19\n",
      "Epoch 0, 12 th batch, avg loss: 4.93, avg correct_num: 0.16\n",
      "Epoch 0, 13 th batch, avg loss: 4.49, avg correct_num: 0.06\n",
      "Epoch 0, 14 th batch, avg loss: 4.45, avg correct_num: 0.25\n",
      "Epoch 0, 15 th batch, avg loss: 4.31, avg correct_num: 0.16\n",
      "Epoch 0, 16 th batch, avg loss: 4.25, avg correct_num: 0.16\n",
      "Epoch 0, 17 th batch, avg loss: 3.52, avg correct_num: 0.31\n",
      "Epoch 0, 18 th batch, avg loss: 3.02, avg correct_num: 0.31\n",
      "Epoch 0, 19 th batch, avg loss: 4.39, avg correct_num: 0.22\n",
      "Epoch 0, 20 th batch, avg loss: 3.40, avg correct_num: 0.22\n",
      "Epoch 0, 21 th batch, avg loss: 3.80, avg correct_num: 0.28\n",
      "Epoch 0, 22 th batch, avg loss: 3.32, avg correct_num: 0.38\n",
      "Epoch 0, 23 th batch, avg loss: 3.33, avg correct_num: 0.28\n",
      "Epoch 0, 24 th batch, avg loss: 3.02, avg correct_num: 0.31\n",
      "Epoch 0, 25 th batch, avg loss: 3.62, avg correct_num: 0.25\n",
      "Epoch 0, 26 th batch, avg loss: 3.73, avg correct_num: 0.25\n",
      "Epoch 0, 27 th batch, avg loss: 3.26, avg correct_num: 0.16\n",
      "Epoch 0, 28 th batch, avg loss: 3.70, avg correct_num: 0.28\n",
      "Epoch 0, 29 th batch, avg loss: 3.38, avg correct_num: 0.19\n"
     ]
    }
   ],
   "source": [
    "trainModel(model, batched_train_data, batched_valid_data, optimizer)"
   ]
  },
  {
   "cell_type": "code",
   "execution_count": null,
   "metadata": {},
   "outputs": [],
   "source": []
  }
 ]
}