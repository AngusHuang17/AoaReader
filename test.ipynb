{
 "metadata": {
  "language_info": {
   "codemirror_mode": {
    "name": "ipython",
    "version": 3
   },
   "file_extension": ".py",
   "mimetype": "text/x-python",
   "name": "python",
   "nbconvert_exporter": "python",
   "pygments_lexer": "ipython3",
   "version": "3.6.12-final"
  },
  "orig_nbformat": 2,
  "kernelspec": {
   "name": "Python 3.6.12 64-bit ('gluon': conda)",
   "display_name": "Python 3.6.12 64-bit ('gluon': conda)",
   "metadata": {
    "interpreter": {
     "hash": "2ca833319821dda9380d087aecfcff6cd44084a3a76167c44275d7d43409e37e"
    }
   }
  }
 },
 "nbformat": 4,
 "nbformat_minor": 2,
 "cells": [
  {
   "source": [
    "这是用来debug的notebook，目前已经能够在训练集上进行测试。\n",
    "\n",
    "代码目前和train.py中代码保持一致，在修改train.py前先在此处测试"
   ],
   "cell_type": "markdown",
   "metadata": {}
  },
  {
   "cell_type": "code",
   "execution_count": null,
   "metadata": {},
   "outputs": [],
   "source": [
    "import torch\n",
    "import argparse\n",
    "import pickle\n",
    "from utils.dict import Dictionary\n",
    "from utils.dataloader import myDataloader\n",
    "from model.model import ATT_model\n",
    "from torch.optim import Adam"
   ]
  },
  {
   "cell_type": "code",
   "execution_count": null,
   "metadata": {},
   "outputs": [],
   "source": [
    "def loss_func(true_answers, pred_answers, probs):\n",
    "    '''Calculate the loss with formulate loss = -sum(log(p(x))), x in answers\n",
    "    \n",
    "    Args:\n",
    "        true_answers: the answers of a batch\n",
    "        pred_answers: (tensor(batch_size)) predicted answers of a batch\n",
    "        probs: (tensor(batch_size)) probability of true answer in predict vector s\n",
    "    Returns:\n",
    "        loss: -sum(log(probs(x)))\n",
    "        correct_num: numbers of (true_answer==pred_answer)\n",
    "    '''\n",
    "    loss = -1 * torch.sum(torch.log(probs))\n",
    "    compare = true_answers.squeeze() == pred_answers\n",
    "    correct_num = 0\n",
    "    for i in compare:\n",
    "        if i:\n",
    "            correct_num += 1\n",
    "    return loss.cuda(), correct_num"
   ]
  },
  {
   "cell_type": "code",
   "execution_count": null,
   "metadata": {},
   "outputs": [],
   "source": [
    "class myParameters:\n",
    "    traindata = './temp/train_vec.pickle'\n",
    "    validdata = './temp/valid_vec.pickle'\n",
    "    dict = './temp/dictionary.pickle'\n",
    "    batch_size = 32\n",
    "    embedding_size = 384\n",
    "    gru_size = 256\n",
    "    epoch = 1\n",
    "    lr = 0.001\n",
    "    l2 = 0.0001\n",
    "    dropout = 0.1\n",
    "    gpu = 0\n",
    "params = myParameters()"
   ]
  },
  {
   "cell_type": "code",
   "execution_count": null,
   "metadata": {},
   "outputs": [],
   "source": [
    "# 加载字典\n",
    "with open(params.dict, 'rb') as f:\n",
    "    dictionary = pickle.load(f)\n",
    "\n",
    "# 加载数据\n",
    "with open(params.traindata, 'rb') as tr, open(params.validdata, 'rb') as v:\n",
    "    train_vec = pickle.load(tr)\n",
    "    valid_vec = pickle.load(v)\n",
    "\n",
    "batched_train_data = myDataloader(dictionary, train_vec, params.batch_size)\n",
    "batched_valid_data = myDataloader(dictionary, valid_vec, params.batch_size)"
   ]
  },
  {
   "cell_type": "code",
   "execution_count": null,
   "metadata": {},
   "outputs": [],
   "source": [
    "# 模型实例化\n",
    "model = ATT_model(vocab_size=dictionary.len, embed_dim=params.embedding_size, hidden_dim=params.gru_size, dropout_rate=params.dropout, PAD=0)\n",
    "# 优化器实例化\n",
    "optimizer = Adam(model.parameters(),\n",
    "                     lr=params.lr,\n",
    "                     weight_decay=params.dropout)"
   ]
  },
  {
   "cell_type": "code",
   "execution_count": null,
   "metadata": {},
   "outputs": [],
   "source": [
    "def eval(model, data):\n",
    "    total_correct = 0\n",
    "    total_loss = 0\n",
    "    total_sample_num = 0\n",
    "\n",
    "    batch_num = data.batch_num\n",
    "    \n",
    "    model.eval()\n",
    "    for i in range(batch_num):\n",
    "        (docs, doc_lengths), (querys, query_lengths), answers = data[i]\n",
    "        probs, pred_answers = model(docs.cuda(), doc_lengths.cuda(), querys.cuda(),\n",
    "                                        query_lengths.cuda(), answers.cuda())\n",
    "        loss, pred_correct = loss_func(answers, pred_answers, probs)\n",
    "\n",
    "        total_loss += loss\n",
    "        total_correct += pred_correct\n",
    "        total_sample_num += answers.shape[0]\n",
    "\n",
    "        del loss, pred_answers, probs\n",
    "\n",
    "    model.train()\n",
    "    return total_loss / total_sample_num, total_correct / total_sample_num\n"
   ]
  },
  {
   "cell_type": "code",
   "execution_count": null,
   "metadata": {},
   "outputs": [],
   "source": [
    "def trainModel(model, train_data, valid_data, optimizer):\n",
    "\n",
    "    start_time = time.time()\n",
    "    def trainEpoch(epoch):\n",
    "        train_data.shuffle()\n",
    "        batch_num = train_data.batch_num\n",
    "\n",
    "        total_correct = 0\n",
    "        total_loss = 0\n",
    "        total_sample_num = 0\n",
    "    \n",
    "        for i in range(batch_num):\n",
    "            (docs, doc_lengths), (querys, query_lengths), answers = train_data[i]\n",
    "            \n",
    "            optimizer.zero_grad()\n",
    "\n",
    "            probs, pred_answers = model(docs.cuda(), doc_lengths.cuda(), querys.cuda(),\n",
    "                                        query_lengths.cuda(), answers.cuda())\n",
    "\n",
    "            loss, pred_correct = loss_func(answers, pred_answers, probs)\n",
    "\n",
    "            loss.backward()\n",
    "\n",
    "            # set gradient clipping threshold to 5\n",
    "            for parameter in model.parameters():\n",
    "                parameter.grad.data.clamp_(-5.0, 5.0)\n",
    "\n",
    "            # update parameters\n",
    "            optimizer.step()\n",
    "\n",
    "            total_loss += loss.data[0]\n",
    "            total_correct += pred_correct\n",
    "            total_sample_num += answers.shape[0]\n",
    "\n",
    "\n",
    "            end_time = time.time()\n",
    "\n",
    "            with open('./log.txt', 'a') as f:\n",
    "                print(\n",
    "                    \"Epoch %d, %d th batch, avg loss: %.2f, acc: %6.2f; %6.0f s elapsed\"\n",
    "                    % (epoch, i, total_loss / total_sample_num, total_correct / total_sample_num *100, end_time-start_time, \n",
    "                    file=f))\n",
    "\n",
    "            del loss, pred_answers, probs\n",
    "\n",
    "        return total_loss / total, total_correct / total\n",
    "\n",
    "\n",
    "    for epoch in range(params.epoch):\n",
    "\n",
    "        # 1. train\n",
    "        train_loss, train_acc = trainEpoch(epoch)\n",
    "\n",
    "        with open('./log.txt', 'a') as f:\n",
    "            print('Epoch %d:\\t average loss: %.2f\\t train accuracy: %g' % (epoch, train_loss, train_acc * 100), file=f)\n",
    "\n",
    "        # 2. evaluate on valid dataset\n",
    "        valid_loss, valid_acc = eval(model, valid_data)\n",
    "        with open('./log.txt', 'a') as f:\n",
    "            print('=' * 20)\n",
    "            print('Evaluating on validation set:', file=f)\n",
    "            print('Validation loss: %.2f' % valid_loss, file=f)\n",
    "            print('Validation accuracy: %g' % (valid_acc*100), file=f)\n",
    "            print('=' * 20, file=f)\n",
    "\n",
    "        # 3. save model\n",
    "        model_state_dict = model.state_dict()\n",
    "        optimizer_state_dict = optimizer.state_dict()\n",
    "        checkpoint = {\n",
    "            'model': model_state_dict,\n",
    "            'epoch': epoch,\n",
    "            'optimizer': optimizer_state_dict,\n",
    "            'opt': params,\n",
    "        }\n",
    "        torch.save(checkpoint,\n",
    "                   'models/model_epoch%d_acc_%.2f.pt' % (epoch, 100*valid_acc))\n"
   ]
  },
  {
   "cell_type": "code",
   "execution_count": null,
   "metadata": {},
   "outputs": [],
   "source": [
    "torch.cuda.set_device(params.gpu)\n",
    "model.cuda()"
   ]
  },
  {
   "cell_type": "code",
   "execution_count": null,
   "metadata": {},
   "outputs": [],
   "source": [
    "trainModel(model, batched_train_data, batched_valid_data, optimizer)"
   ]
  },
  {
   "cell_type": "code",
   "execution_count": null,
   "metadata": {},
   "outputs": [],
   "source": []
  }
 ]
}